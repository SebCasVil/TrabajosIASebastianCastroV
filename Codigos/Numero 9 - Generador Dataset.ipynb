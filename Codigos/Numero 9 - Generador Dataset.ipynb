{
 "cells": [
  {
   "cell_type": "code",
   "execution_count": 1,
   "id": "00c106e9-3e34-4b20-a4ad-49bdbb249004",
   "metadata": {},
   "outputs": [],
   "source": [
    "import cv2 as cv\n",
    "\n",
    "rostro = cv.CascadeClassifier('C:/Users/kalan/Desktop/IA/haarcascade_frontalface_alt.xml')\n",
    "cap = cv.VideoCapture(0)\n",
    "conta = 0\n",
    "while True:\n",
    "    ret, frame = cap.read()\n",
    "    gray = cv.cvtColor(frame, cv.COLOR_BGR2GRAY)\n",
    "    rostros = rostro.detectMultiScale(gray, 1.3, 5)\n",
    "    for(x, y, w, h) in rostros:\n",
    "        # CARA\n",
    "        frame = cv.rectangle(frame, ((x-90),(y-90)), (x+w+90, y+h+90), (0, 255, 0), 5)\n",
    "        # NARIZ\n",
    "        # frame = cv.rectangle(frame, (x+int(w*(3/8)),y+int(h*(9/24))), (((x+int(w*(5/8)))),((y+int(h*(16/24))))), (0,255,0), 5)\n",
    "        # # OJOS\n",
    "        # frame = cv.circle(frame, (x+int(w*(5/16)), y+int(h*(10/24))), 10, (0,0,255),5)\n",
    "        # frame = cv.circle(frame, (x+int(w*(11/16)), y+int(h*(10/24))), 10, (0,0,255),5)\n",
    "        # # BOCA\n",
    "        # frame = cv.circle(frame, (x+int(w*(1/2)), y+int(h*(20/24))), 30, (255,0,0),5)\n",
    "\n",
    "        # SOLO LA CARA\n",
    "\n",
    "        frame2 = frame[(y-30):(y+h+30), (x-30):(x+w+30)]\n",
    "        frame3 = cv.resize(frame2, (30, 30))\n",
    "        if conta <= 10000:\n",
    "            conta += 1\n",
    "            direccion = 'C:/Users/kalan/Desktop/IA/Rostros/Sebastian/' + str(conta) + '.jpg'\n",
    "            cv.imwrite(direccion, frame3)\n",
    "        else:\n",
    "            frame = cv.rectangle(frame, ((x-30),(y-30)), (x+w+30, y+h+30), (0, 0, 255), 5)\n",
    "        cv.imshow('cara', frame2)\n",
    "        cv.imshow('rostros', frame)\n",
    "    # cv.imwrite('C:\\Users\\kalan\\Desktop\\IA\\Jupyter\\Dataset\\Cara'+str(i)+'.jpg', frame)\n",
    "    k = cv.waitKey(10)\n",
    "    if k == ord('s'):\n",
    "        break\n",
    "cap.release()\n",
    "cv.destroyAllWindows()"
   ]
  }
 ],
 "metadata": {
  "kernelspec": {
   "display_name": "Python 3 (ipykernel)",
   "language": "python",
   "name": "python3"
  },
  "language_info": {
   "codemirror_mode": {
    "name": "ipython",
    "version": 3
   },
   "file_extension": ".py",
   "mimetype": "text/x-python",
   "name": "python",
   "nbconvert_exporter": "python",
   "pygments_lexer": "ipython3",
   "version": "3.10.6"
  }
 },
 "nbformat": 4,
 "nbformat_minor": 5
}
