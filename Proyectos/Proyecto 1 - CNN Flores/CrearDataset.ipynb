{
 "cells": [
  {
   "cell_type": "markdown",
   "metadata": {},
   "source": [
    "# Crear Dataset\n",
    "* Se abre un video y se obtiene frame por frame\n",
    "* Se reescala a 200x200\n",
    "* Se rota el frame y se guarda\n",
    "\n",
    "Esto genera múltiples imagenes de un mismo frame."
   ]
  },
  {
   "cell_type": "code",
   "execution_count": 10,
   "metadata": {},
   "outputs": [],
   "source": [
    "import numpy as np\n",
    "import cv2 as cv\n",
    "\n",
    "cap = cv.VideoCapture('C:/Users/kalan/Desktop/IA/Flores2/Dataset3/Videos/Girasol/Girasol.mp4')\n",
    "i = 0\n",
    "conta = 0\n",
    "\n",
    "while True:\n",
    "    ret, frame = cap.read()\n",
    "    if not ret:\n",
    "        break\n",
    "    \n",
    "    frame3 = cv.resize(frame, (200, 200))\n",
    "\n",
    "    k = cv.waitKey(10)\n",
    "    i+=1\n",
    "    if i % 10 == 0:\n",
    "        for angle in range(0, 360, 45):  \n",
    "            center = (frame3.shape[1] // 2, frame3.shape[0] // 2)\n",
    "            rotation_matrix = cv.getRotationMatrix2D(center, angle, 1.0)\n",
    "            rotated_frame = cv.warpAffine(frame3, rotation_matrix, (frame3.shape[1], frame3.shape[0]))\n",
    "\n",
    "            conta += 1\n",
    "            direccion = f'C:/Users/kalan/Desktop/IA/Flores2/Dataset3/Transformadas/Girasol/{conta}_{angle}.jpg'\n",
    "\n",
    "            if not cv.imwrite(direccion, rotated_frame):\n",
    "                print(f'Error al escribir la imagen en: {direccion}')\n",
    "\n",
    "            cv.imshow('frame', rotated_frame)\n",
    "\n",
    "    if k == ord('s'):\n",
    "        break\n",
    "\n",
    "cap.release()\n",
    "cv.destroyAllWindows()\n"
   ]
  }
 ],
 "metadata": {
  "kernelspec": {
   "display_name": "Python 3",
   "language": "python",
   "name": "python3"
  },
  "language_info": {
   "codemirror_mode": {
    "name": "ipython",
    "version": 3
   },
   "file_extension": ".py",
   "mimetype": "text/x-python",
   "name": "python",
   "nbconvert_exporter": "python",
   "pygments_lexer": "ipython3",
   "version": "3.10.6"
  }
 },
 "nbformat": 4,
 "nbformat_minor": 2
}
