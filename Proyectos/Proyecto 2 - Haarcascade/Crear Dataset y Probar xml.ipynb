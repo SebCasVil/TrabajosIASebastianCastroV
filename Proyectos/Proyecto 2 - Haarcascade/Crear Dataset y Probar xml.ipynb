{
 "cells": [
  {
   "cell_type": "markdown",
   "metadata": {},
   "source": [
    "# Crear dataset\n",
    "* Se obtienen los frames de un video\n",
    "* Se modifica el tamaño y el color a blanco y negro\n",
    "* Se guarda en una carpeta"
   ]
  },
  {
   "cell_type": "code",
   "execution_count": 10,
   "metadata": {},
   "outputs": [],
   "source": [
    "# CREAR DATASET\n",
    "\n",
    "import cv2 as cv\n",
    "\n",
    "cap = cv.VideoCapture('C:/Users/kalan/Desktop/IA/Cubre4/Negativos.mp4')\n",
    "\n",
    "i = 0\n",
    "conta = 0\n",
    "\n",
    "while True:\n",
    "    ret, frame = cap.read()\n",
    "    if not ret:\n",
    "        break  \n",
    "    imagen_bn = cv.cvtColor(frame, cv.COLOR_BGR2GRAY)\n",
    "    frame3 = cv.resize(imagen_bn, (30, 30))\n",
    "\n",
    "    cv.imshow('rostros', frame)\n",
    "    cv.imshow('resize', frame3)\n",
    "    # cv.imshow('cara', cara)\n",
    "\n",
    "    i += 1\n",
    "    k = cv.waitKey(10)\n",
    "\n",
    "    if i % 10 == 0:\n",
    "        conta += 1\n",
    "        direccion = 'C:/Users/kalan/Desktop/IA/Cubre4/n/' + str(conta) + '.jpg'\n",
    "        cv.imwrite(direccion, frame3)\n",
    "\n",
    "    if k == ord('s'):\n",
    "        break\n",
    "\n",
    "cap.release()\n",
    "cv.destroyAllWindows()"
   ]
  },
  {
   "cell_type": "markdown",
   "metadata": {},
   "source": [
    "# Probar XML ya entrenado\n",
    "\n",
    "* Se carga el xml generado por el GUI Trainer\n",
    "* Se usa el modelo para detectar en una fuente de vide, en este caso es la cámara por defecto del PC"
   ]
  },
  {
   "cell_type": "code",
   "execution_count": 1,
   "metadata": {},
   "outputs": [],
   "source": [
    "# PROBAR EL XML ENTRENADO\n",
    "\n",
    "import cv2 as cv\n",
    "\n",
    "rostro = cv.CascadeClassifier('cascade.xml')\n",
    "cap = cv.VideoCapture(0)\n",
    "i=0\n",
    "while True:\n",
    "    ret, frame = cap.read()\n",
    "    i=i+1\n",
    "    gray = cv.cvtColor(frame, cv.COLOR_BGR2GRAY)\n",
    "    rostros = rostro.detectMultiScale(gray, scaleFactor = 1.3, minNeighbors=30, minSize=(80,80), ) # 2/10 - 1.3/30\n",
    "    for(x, y, w, h) in rostros:\n",
    "        # CARA\n",
    "        frame = cv.rectangle(frame, (x,y), (x+w, y+h), (255, 0, 0), 5)\n",
    "    cv.imshow('rostros', frame)\n",
    "    k = cv.waitKey(1)\n",
    "    if k == ord('s'):\n",
    "        break\n",
    "cap.release()\n",
    "cv.destroyAllWindows()"
   ]
  }
 ],
 "metadata": {
  "kernelspec": {
   "display_name": "Python 3",
   "language": "python",
   "name": "python3"
  },
  "language_info": {
   "codemirror_mode": {
    "name": "ipython",
    "version": 3
   },
   "file_extension": ".py",
   "mimetype": "text/x-python",
   "name": "python",
   "nbconvert_exporter": "python",
   "pygments_lexer": "ipython3",
   "version": "3.10.6"
  }
 },
 "nbformat": 4,
 "nbformat_minor": 2
}
