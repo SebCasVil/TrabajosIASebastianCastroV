{
 "cells": [
  {
   "cell_type": "code",
   "execution_count": 1,
   "id": "00c106e9-3e34-4b20-a4ad-49bdbb249004",
   "metadata": {},
   "outputs": [],
   "source": [
    "import numpy as np\n",
    "import cv2 as cv\n",
    "import math \n",
    "\n",
    "rostro = cv.CascadeClassifier('C:/Users/kalan/Desktop/IA/haarcascade_frontalface_alt.xml')\n",
    "cap = cv.VideoCapture(0)\n",
    "i=0\n",
    "while True:\n",
    "    ret, frame = cap.read()\n",
    "    i=i+1\n",
    "    gray = cv.cvtColor(frame, cv.COLOR_BGR2GRAY)\n",
    "    rostros = rostro.detectMultiScale(gray, 1.3, 5)\n",
    "    for(x, y, w, h) in rostros:\n",
    "        # CARA\n",
    "        frame = cv.rectangle(frame, (x,y), (x+w, y+h), (255, 0, 0), 5)\n",
    "        # NARIZ\n",
    "        frame = cv.rectangle(frame, (x+int(w*(3/8)),y+int(h*(9/24))), (((x+int(w*(5/8)))),((y+int(h*(16/24))))), (0,255,0), 5)\n",
    "        # OJOS\n",
    "        frame = cv.circle(frame, (x+int(w*(5/16)), y+int(h*(10/24))), 10, (0,0,255),5)\n",
    "        frame = cv.circle(frame, (x+int(w*(11/16)), y+int(h*(10/24))), 10, (0,0,255),5)\n",
    "        # BOCA\n",
    "        frame = cv.circle(frame, (x+int(w*(1/2)), y+int(h*(20/24))), 30, (255,0,0),5)\n",
    "\n",
    "        # SOLO LA CARA\n",
    "\n",
    "        frame2 = frame[x:x+w, y:y+h]\n",
    "        cv.imshow('cara', frame2)\n",
    "    cv.imshow('rostros', frame)\n",
    "    # cv.imwrite('C:\\Users\\kalan\\Desktop\\IA\\Jupyter\\Dataset\\Cara'+str(i)+'.jpg', frame)\n",
    "    k = cv.waitKey(1)\n",
    "    if k == 27:\n",
    "        break\n",
    "cap.release()\n",
    "cv.destroyAllWindows()"
   ]
  },
  {
   "cell_type": "code",
   "execution_count": 1,
   "id": "4acd2724-e92b-4010-a93e-da4bfca2409f",
   "metadata": {},
   "outputs": [],
   "source": [
    "import numpy as np\n",
    "import cv2 as cv\n",
    "import math \n",
    "\n",
    "cap = cv.VideoCapture(0)\n",
    "i=0\n",
    "conta=0\n",
    "while True:\n",
    "    ret, frame = cap.read()\n",
    "    frame = cv.rectangle(frame, (100,100), (400, 400), (255, 0, 0), 2)\n",
    "    cara = frame[100:400, 100:400]\n",
    "    frame3 = cv.resize(cara,(100,100))\n",
    "    cv.imshow('rostros', frame)\n",
    "    cv.imshow('resize', frame3)\n",
    "    cv.imshow('cara', cara)\n",
    "    i=i+1\n",
    "    k = cv.waitKey(10)\n",
    "    if( i%25 == 0 ):\n",
    "        conta=conta+1\n",
    "        if (conta <= 500):\n",
    "            direccion = 'C:/Users/kalan/Desktop/IA/Jupyter/Dataset/Positivos/' + str(conta) + '.jpg'\n",
    "            cv.imwrite( direccion , frame3)\n",
    "    if k == ord('s'):\n",
    "        break\n",
    "cap.release()\n",
    "cv.destroyAllWindows()"
   ]
  }
 ],
 "metadata": {
  "kernelspec": {
   "display_name": "Python 3 (ipykernel)",
   "language": "python",
   "name": "python3"
  },
  "language_info": {
   "codemirror_mode": {
    "name": "ipython",
    "version": 3
   },
   "file_extension": ".py",
   "mimetype": "text/x-python",
   "name": "python",
   "nbconvert_exporter": "python",
   "pygments_lexer": "ipython3",
   "version": "3.10.6"
  }
 },
 "nbformat": 4,
 "nbformat_minor": 5
}
