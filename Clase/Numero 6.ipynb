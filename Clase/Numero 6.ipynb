{
 "cells": [
  {
   "cell_type": "code",
   "execution_count": 14,
   "metadata": {},
   "outputs": [
    {
     "name": "stdout",
     "output_type": "stream",
     "text": [
      "El soldado que sobrevivió es el número: 19\n"
     ]
    }
   ],
   "source": [
    "def josephus(n):\n",
    "    x = 0\n",
    "    y = 0\n",
    "    \n",
    "    while(2**x <= n):\n",
    "        x+=1\n",
    "    x-=1\n",
    "    y = (n - 2**x)\n",
    "\n",
    "    sobreviviente = (2*y) + 1\n",
    "    return sobreviviente\n",
    "\n",
    "n = int(input(\"Ingrese el número total de soldados: \"))\n",
    "\n",
    "Sobrevivio = josephus(n)\n",
    "\n",
    "print(\"El soldado que sobrevivió es el número: \"+str(Sobrevivio))\n"
   ]
  }
 ],
 "metadata": {
  "kernelspec": {
   "display_name": "Python 3 (ipykernel)",
   "language": "python",
   "name": "python3"
  },
  "language_info": {
   "codemirror_mode": {
    "name": "ipython",
    "version": 3
   },
   "file_extension": ".py",
   "mimetype": "text/x-python",
   "name": "python",
   "nbconvert_exporter": "python",
   "pygments_lexer": "ipython3",
   "version": "3.10.6"
  }
 },
 "nbformat": 4,
 "nbformat_minor": 5
}
