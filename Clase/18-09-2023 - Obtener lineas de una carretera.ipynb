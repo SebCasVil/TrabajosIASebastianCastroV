{
 "cells": [
  {
   "cell_type": "code",
   "execution_count": 6,
   "id": "b699f7aa-222e-4e57-bfc7-64479ce6d333",
   "metadata": {},
   "outputs": [],
   "source": [
    "# OBTENER COORDENADAS DE UNA CALLE\n",
    "import cv2 as cv\n",
    "import numpy as np\n",
    "\n",
    "img1 = cv.imread('C:/Users/kalan/Desktop/IA/git/calle.jpeg',1)\n",
    "img2 = cv.cvtColor(img1, cv.COLOR_BGR2RGB) \n",
    "img3 = cv.cvtColor(img2, cv.COLOR_RGB2HSV)\n",
    "\n",
    "umbralBajo = (0, 0, 200)\n",
    "umbralAlto = (255, 10, 255)\n",
    "\n",
    "mascara = cv.inRange(img3, umbralBajo, umbralAlto)\n",
    "\n",
    "resultado = cv.bitwise_and(img1, img1, mask=mascara)\n",
    "\n",
    "#contours, hierarchy = cv.findContours(mascara, cv.RETR_TREE, cv.CHAIN_APPROX_SIMPLE)\n",
    "#print(contours)\n",
    "\n",
    "\n",
    "cv.imshow('Img1', img1)\n",
    "cv.imshow('mascara', mascara)\n",
    "cv.imshow('resultado', resultado)\n",
    "\n",
    "cv.waitKey(0)\n",
    "cv.destroyAllWindows()"
   ]
  },
  {
   "cell_type": "code",
   "execution_count": 2,
   "id": "2115841d-3e1f-435e-9948-02a74da034de",
   "metadata": {},
   "outputs": [],
   "source": [
    "# \n",
    "import cv2 as cv\n",
    "\n",
    "img1 = cv.imread('C:/Users/kalan/Desktop/IA/git/calle.jpeg',0)\n",
    "w, h = img1.shape\n",
    "for i in range(w):\n",
    "        for j in range(h):\n",
    "            img1[i,j]=255-img1[i,j]\n",
    "cv.imshow('Img1', img1)\n",
    "cv.waitKey(0)\n",
    "cv.destroyAllWindows()\n",
    "\n"
   ]
  }
 ],
 "metadata": {
  "kernelspec": {
   "display_name": "Python 3 (ipykernel)",
   "language": "python",
   "name": "python3"
  },
  "language_info": {
   "codemirror_mode": {
    "name": "ipython",
    "version": 3
   },
   "file_extension": ".py",
   "mimetype": "text/x-python",
   "name": "python",
   "nbconvert_exporter": "python",
   "pygments_lexer": "ipython3",
   "version": "3.10.6"
  }
 },
 "nbformat": 4,
 "nbformat_minor": 5
}
