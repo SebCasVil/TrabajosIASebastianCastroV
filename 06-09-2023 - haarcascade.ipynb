{
 "cells": [
  {
   "cell_type": "code",
   "execution_count": 1,
   "id": "00c106e9-3e34-4b20-a4ad-49bdbb249004",
   "metadata": {},
   "outputs": [
    {
     "ename": "KeyboardInterrupt",
     "evalue": "",
     "output_type": "error",
     "traceback": [
      "\u001b[1;31m---------------------------------------------------------------------------\u001b[0m",
      "\u001b[1;31mKeyboardInterrupt\u001b[0m                         Traceback (most recent call last)",
      "\u001b[1;32mc:\\Users\\kalan\\Desktop\\IA\\Jupyter\\06-09-2023 - haarcascade.ipynb Cell 1\u001b[0m line \u001b[0;36m1\n\u001b[0;32m     <a href='vscode-notebook-cell:/c%3A/Users/kalan/Desktop/IA/Jupyter/06-09-2023%20-%20haarcascade.ipynb#W0sZmlsZQ%3D%3D?line=9'>10</a>\u001b[0m i\u001b[39m=\u001b[39mi\u001b[39m+\u001b[39m\u001b[39m1\u001b[39m\n\u001b[0;32m     <a href='vscode-notebook-cell:/c%3A/Users/kalan/Desktop/IA/Jupyter/06-09-2023%20-%20haarcascade.ipynb#W0sZmlsZQ%3D%3D?line=10'>11</a>\u001b[0m gray \u001b[39m=\u001b[39m cv\u001b[39m.\u001b[39mcvtColor(frame, cv\u001b[39m.\u001b[39mCOLOR_BGR2GRAY)\n\u001b[1;32m---> <a href='vscode-notebook-cell:/c%3A/Users/kalan/Desktop/IA/Jupyter/06-09-2023%20-%20haarcascade.ipynb#W0sZmlsZQ%3D%3D?line=11'>12</a>\u001b[0m rostros \u001b[39m=\u001b[39m rostro\u001b[39m.\u001b[39;49mdetectMultiScale(gray, \u001b[39m1.3\u001b[39;49m, \u001b[39m5\u001b[39;49m)\n\u001b[0;32m     <a href='vscode-notebook-cell:/c%3A/Users/kalan/Desktop/IA/Jupyter/06-09-2023%20-%20haarcascade.ipynb#W0sZmlsZQ%3D%3D?line=12'>13</a>\u001b[0m \u001b[39mfor\u001b[39;00m(x, y, w, h) \u001b[39min\u001b[39;00m rostros:\n\u001b[0;32m     <a href='vscode-notebook-cell:/c%3A/Users/kalan/Desktop/IA/Jupyter/06-09-2023%20-%20haarcascade.ipynb#W0sZmlsZQ%3D%3D?line=13'>14</a>\u001b[0m     \u001b[39m# CARA\u001b[39;00m\n\u001b[0;32m     <a href='vscode-notebook-cell:/c%3A/Users/kalan/Desktop/IA/Jupyter/06-09-2023%20-%20haarcascade.ipynb#W0sZmlsZQ%3D%3D?line=14'>15</a>\u001b[0m     frame \u001b[39m=\u001b[39m cv\u001b[39m.\u001b[39mrectangle(frame, (x,y), (x\u001b[39m+\u001b[39mw, y\u001b[39m+\u001b[39mh), (\u001b[39m255\u001b[39m, \u001b[39m0\u001b[39m, \u001b[39m0\u001b[39m), \u001b[39m5\u001b[39m)\n",
      "\u001b[1;31mKeyboardInterrupt\u001b[0m: "
     ]
    }
   ],
   "source": [
    "import numpy as np\n",
    "import cv2 as cv\n",
    "import math \n",
    "\n",
    "rostro = cv.CascadeClassifier('C:/Users/kalan/Desktop/IA/haarcascade_frontalface_alt.xml')\n",
    "cap = cv.VideoCapture(0)\n",
    "i=0\n",
    "while True:\n",
    "    ret, frame = cap.read()\n",
    "    i=i+1\n",
    "    gray = cv.cvtColor(frame, cv.COLOR_BGR2GRAY)\n",
    "    rostros = rostro.detectMultiScale(gray, 1.3, 5)\n",
    "    for(x, y, w, h) in rostros:\n",
    "        # CARA\n",
    "        frame = cv.rectangle(frame, (x,y), (x+w, y+h), (255, 0, 0), 5)\n",
    "        # NARIZ\n",
    "        frame = cv.rectangle(frame, (x+int(w*(3/8)),y+int(h*(9/24))), (((x+int(w*(5/8)))),((y+int(h*(16/24))))), (0,255,0), 5)\n",
    "        # OJOS\n",
    "        frame = cv.circle(frame, (x+int(w*(5/16)), y+int(h*(10/24))), 10, (0,0,255),5)\n",
    "        frame = cv.circle(frame, (x+int(w*(11/16)), y+int(h*(10/24))), 10, (0,0,255),5)\n",
    "        # BOCA\n",
    "        frame = cv.circle(frame, (x+int(w*(1/2)), y+int(h*(20/24))), 30, (255,0,0),5)\n",
    "    cv.imshow('rostros', frame)\n",
    "    # cv.imwrite('C:\\Users\\kalan\\Desktop\\IA\\Jupyter\\Dataset\\Cara'+str(i)+'.jpg', frame)\n",
    "    k = cv.waitKey(1)\n",
    "    if k == 27:\n",
    "        break\n",
    "cap.release()\n",
    "cv.destroyAllWindows()"
   ]
  },
  {
   "cell_type": "code",
   "execution_count": null,
   "id": "4acd2724-e92b-4010-a93e-da4bfca2409f",
   "metadata": {},
   "outputs": [],
   "source": []
  }
 ],
 "metadata": {
  "kernelspec": {
   "display_name": "Python 3 (ipykernel)",
   "language": "python",
   "name": "python3"
  },
  "language_info": {
   "codemirror_mode": {
    "name": "ipython",
    "version": 3
   },
   "file_extension": ".py",
   "mimetype": "text/x-python",
   "name": "python",
   "nbconvert_exporter": "python",
   "pygments_lexer": "ipython3",
   "version": "3.10.6"
  }
 },
 "nbformat": 4,
 "nbformat_minor": 5
}
